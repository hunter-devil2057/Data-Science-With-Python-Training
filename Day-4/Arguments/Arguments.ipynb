{
 "cells": [
  {
   "cell_type": "markdown",
   "metadata": {},
   "source": [
    "Argument Types: \n",
    "1. Arbitrary Arguments:\n",
    "2. KeyWord Arguments\n",
    "3. Arbitrary Keyword Arguments:\n",
    "4. Default Arguments: - "
   ]
  },
  {
   "cell_type": "markdown",
   "metadata": {},
   "source": [
    "1. Arbitrary Arguments:\n",
    "    - no. of arg are unknown,\n",
    "    - * is used, and any number of arguments are passed\n",
    "    - will return a tuple of arguments when we add a * before arguments \n",
    "        - That is, result in the form of tuple\n",
    "        def <funcName>(*<arg>):\n",
    "            <statements>\n",
    "        <funcName>(val1, val2, ..., valn)\n"
   ]
  },
  {
   "cell_type": "code",
   "execution_count": null,
   "metadata": {},
   "outputs": [
    {
     "name": "stdout",
     "output_type": "stream",
     "text": [
      "The Brightest student is: Manish\n"
     ]
    }
   ],
   "source": [
    "# Arbitrary Arguments\n",
    "def myFunction(*student):\n",
    "    print(\"The Brightest student is: \"+student[0])\n",
    "    \n",
    "myFunction(\"Manish\", \"Sudip\", \"Nishan\")"
   ]
  },
  {
   "cell_type": "markdown",
   "metadata": {},
   "source": [
    "2. KeyWord Arguments:\n",
    "    Syntax: Key=Value\n",
    "    - we can send arguments in key=value format while invoking a function.\n",
    "    - order of arguments does not matter \n"
   ]
  },
  {
   "cell_type": "code",
   "execution_count": null,
   "metadata": {},
   "outputs": [
    {
     "name": "stdout",
     "output_type": "stream",
     "text": [
      "The result is:  Tony\n"
     ]
    }
   ],
   "source": [
    "# Keyword Arguments\n",
    "def myFunction(a, b, c):\n",
    "    print(\"The result is: \", a)\n",
    "# Calling/Invoking a Function\n",
    "myFunction(a=\"Tony\", b=\"John\", c=\"ram\")"
   ]
  },
  {
   "cell_type": "markdown",
   "metadata": {},
   "source": [
    "3. Arbitrary Keyword Arguments: \n",
    "    - gives dictionary form of arguments \n",
    "    def <func_name>(**<args>)\n",
    "    <statements>\n",
    "    <func_name>(arg1=val1, arg2=val2, ....)"
   ]
  },
  {
   "cell_type": "code",
   "execution_count": null,
   "metadata": {},
   "outputs": [
    {
     "name": "stdout",
     "output_type": "stream",
     "text": [
      "{'name': 'abc', 'age': '22', 'address': 'Ktm'}\n",
      "abc\n",
      "22\n",
      "Ktm\n"
     ]
    }
   ],
   "source": [
    "def data(**my_data):\n",
    "    print(my_data)\n",
    "    print(my_data['name'])\n",
    "    print(my_data['age'])\n",
    "    print(my_data['address'])\n",
    "# Calling/Invoking a Function \n",
    "data(name=\"abc\", age=\"22\", address=\"Ktm\")"
   ]
  },
  {
   "cell_type": "markdown",
   "metadata": {},
   "source": [
    "4. Default Argument:\n",
    "        def<func_name>(<arg>=val):\n",
    "        <statements>\n",
    "\n",
    "        <func_name>()\n",
    "        <func_name>(value)"
   ]
  },
  {
   "cell_type": "code",
   "execution_count": null,
   "metadata": {},
   "outputs": [
    {
     "name": "stdout",
     "output_type": "stream",
     "text": [
      "I am from  Norway\n",
      "I am from  USA\n",
      "I am from  Nepal\n",
      "I am from  India\n"
     ]
    }
   ],
   "source": [
    "# Default Argument\n",
    "def my_function(country=\"Nepal\"):\n",
    "    print(\"I am from \", country)\n",
    "    \n",
    "# Calling/Invoking a Function\n",
    "my_function(\"Norway\")\n",
    "my_function(\"USA\")\n",
    "# Received value of parameter passed whiel defining a Function\n",
    "# Default Argument \n",
    "my_function()\n",
    "my_function(\"India\")"
   ]
  }
 ],
 "metadata": {
  "language_info": {
   "name": "python"
  }
 },
 "nbformat": 4,
 "nbformat_minor": 2
}

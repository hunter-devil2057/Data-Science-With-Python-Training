{
 "cells": [
  {
   "cell_type": "markdown",
   "metadata": {},
   "source": [
    "Function: reusable block of code that performs a specific task. \n",
    "User-Defined Function: \n",
    "Built-in Funciton: print(), input(), len()\n",
    "\n",
    "def<name>(arg1, arg2, ..., argN):\n",
    "    <statements>\n",
    "\n",
    "Calling a Function: \n",
    "<Name>(value1, value2, ...., valueN)"
   ]
  },
  {
   "cell_type": "code",
   "execution_count": 4,
   "metadata": {},
   "outputs": [
    {
     "name": "stdout",
     "output_type": "stream",
     "text": [
      "The addition of 2 and 5 is: 7\n"
     ]
    }
   ],
   "source": [
    "def add(a, b):\n",
    "    c=a+b\n",
    "    print(f\"The addition of {a} and {b} is: {c}\")\n",
    "# Calling/Invoking a Function\n",
    "add(2, 5)"
   ]
  },
  {
   "cell_type": "code",
   "execution_count": 3,
   "metadata": {},
   "outputs": [
    {
     "name": "stdout",
     "output_type": "stream",
     "text": [
      "Hello, User\n"
     ]
    }
   ],
   "source": [
    "def my_function():\n",
    "    print(\"Hello, User\")\n",
    "# Calling/Invoking a Function\n",
    "my_function()"
   ]
  },
  {
   "cell_type": "code",
   "execution_count": 9,
   "metadata": {},
   "outputs": [
    {
     "name": "stdout",
     "output_type": "stream",
     "text": [
      "Sum of 12 and 14 is:  26\n",
      "Sum of 15 and 17 is:  32\n",
      "Sum of 19 and 21 is:  40\n"
     ]
    }
   ],
   "source": [
    "# Adding Two Numbers\n",
    "def Add(a, b):\n",
    "    result=a+b\n",
    "    print(f\"Sum of {a} and {b} is: \", result)\n",
    "    \n",
    "# Calling/Invoking a Function \n",
    "Add(12, 14)\n",
    "Add(15, 17)\n",
    "Add(19, 21)"
   ]
  },
  {
   "cell_type": "markdown",
   "metadata": {},
   "source": [
    "WAP to calculate the power/exponentiation of two numbers"
   ]
  },
  {
   "cell_type": "code",
   "execution_count": 25,
   "metadata": {},
   "outputs": [
    {
     "name": "stdout",
     "output_type": "stream",
     "text": [
      "2^3= 8\n"
     ]
    }
   ],
   "source": [
    "def Exponentiation():\n",
    "    base=int(input(\"Enter Base:\"))\n",
    "    power=int(input(\"Enter Power:\"))\n",
    "    result=base**power\n",
    "    print(f\"{base}^{power}=\",result)\n",
    "    # return result\n",
    "    \n",
    "# Calling/Invoking a Function\n",
    "Exponentiation()"
   ]
  },
  {
   "cell_type": "code",
   "execution_count": 28,
   "metadata": {},
   "outputs": [
    {
     "data": {
      "text/plain": [
       "16"
      ]
     },
     "execution_count": 28,
     "metadata": {},
     "output_type": "execute_result"
    }
   ],
   "source": [
    "# Returning a value\n",
    "def Add(a,b):\n",
    "    c=a+b\n",
    "    return c\n",
    "Add(1,3)\n",
    "Add(3,5)\n",
    "Add(4,6)\n",
    "Add(7,9)\n",
    "# By default, result of last line appears, while returning"
   ]
  },
  {
   "cell_type": "markdown",
   "metadata": {},
   "source": [
    "Advantages: \n",
    "- Reusability: can be used time and again\n",
    "- Encapsulation/Abstraction:  hiding underlying functionality\n",
    "- Procedural Decompostion: task decomposition/task division "
   ]
  },
  {
   "cell_type": "markdown",
   "metadata": {},
   "source": [
    "Arguments: allows us to pass information into the function "
   ]
  },
  {
   "cell_type": "code",
   "execution_count": 30,
   "metadata": {},
   "outputs": [
    {
     "name": "stdout",
     "output_type": "stream",
     "text": [
      "Hello Manish\n"
     ]
    }
   ],
   "source": [
    "def Greeting(name):\n",
    "    # Here, name is the argument\n",
    "    print(\"Hello\"+\" \"+name)\n",
    "    \n",
    "# Invoking a Function\n",
    "Greeting(\"Manish\")      #\"Manish\" is a parameter"
   ]
  },
  {
   "cell_type": "markdown",
   "metadata": {},
   "source": [
    "Function Annotation: (completely optional)\n",
    "def print_age(name, age):\n",
    "def print_age(name:'str', age:'int')->none:     "
   ]
  }
 ],
 "metadata": {
  "kernelspec": {
   "display_name": "base",
   "language": "python",
   "name": "python3"
  },
  "language_info": {
   "codemirror_mode": {
    "name": "ipython",
    "version": 3
   },
   "file_extension": ".py",
   "mimetype": "text/x-python",
   "name": "python",
   "nbconvert_exporter": "python",
   "pygments_lexer": "ipython3",
   "version": "3.12.4"
  }
 },
 "nbformat": 4,
 "nbformat_minor": 2
}

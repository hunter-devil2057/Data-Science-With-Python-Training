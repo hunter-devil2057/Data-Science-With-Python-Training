{
  "nbformat": 4,
  "nbformat_minor": 0,
  "metadata": {
    "colab": {
      "provenance": []
    },
    "kernelspec": {
      "name": "python3",
      "display_name": "Python 3"
    },
    "language_info": {
      "name": "python"
    }
  },
  "cells": [
    {
      "cell_type": "code",
      "execution_count": null,
      "metadata": {
        "colab": {
          "base_uri": "https://localhost:8080/"
        },
        "id": "JKPKaSZFHYIF",
        "outputId": "80844ed3-61a7-4e42-b80f-930780ad92a4"
      },
      "outputs": [
        {
          "output_type": "stream",
          "name": "stdout",
          "text": [
            "Hello, World\n"
          ]
        }
      ],
      "source": [
        "print(\"Hello, World\")"
      ]
    },
    {
      "cell_type": "code",
      "source": [
        "2+2"
      ],
      "metadata": {
        "colab": {
          "base_uri": "https://localhost:8080/"
        },
        "id": "76_u0WbcHplp",
        "outputId": "e9ff724f-ecdb-48b7-f311-d8245c70a291"
      },
      "execution_count": null,
      "outputs": [
        {
          "output_type": "execute_result",
          "data": {
            "text/plain": [
              "4"
            ]
          },
          "metadata": {},
          "execution_count": 3
        }
      ]
    },
    {
      "cell_type": "code",
      "source": [
        "a=2\n",
        "b=2\n",
        "c=a+b\n",
        "print(c)"
      ],
      "metadata": {
        "colab": {
          "base_uri": "https://localhost:8080/"
        },
        "id": "jgQQbX54HuCE",
        "outputId": "9c9496fe-3bbf-4417-8247-d4630adefe11"
      },
      "execution_count": null,
      "outputs": [
        {
          "output_type": "stream",
          "name": "stdout",
          "text": [
            "4\n"
          ]
        }
      ]
    },
    {
      "cell_type": "code",
      "source": [
        "# Operators in Python\n",
        "a=45\n",
        "b=2\n",
        "# Addition Operator\n",
        "print(\"Addition: \", a, \"+\", b, \"=\", a+b)\n",
        "\n",
        "# Subtraction Operator\n",
        "print(\"Subtraction: \", a, \"-\", b, \"=\", a-b)\n",
        "\n",
        "# Multiplication Operator\n",
        "print(\"Multiplication: \", a, \"*\", b, \"=\", a*b)\n",
        "\n",
        "# Division Operator\n",
        "print(\"Division: \", a, \"/\", b, \"=\",  a/b)\n",
        "\n",
        "# Floor Division Operator\n",
        "print(\"Floor Division: \",  a, \"//\", b, \"=\", a//b)\n",
        "\n",
        "# Modulus Operator\n",
        "print(\"Modulus Operator: \", a, \"%\", b, \"=\", a%b)\n",
        "\n",
        "# Exponential Operator\n",
        "print(\"Exponential Operator: \", a, \"**\", b, \"=\", a**b)"
      ],
      "metadata": {
        "colab": {
          "base_uri": "https://localhost:8080/"
        },
        "id": "6Xy1HKpAMB4Q",
        "outputId": "ac6357cc-36c5-466e-95a8-69070bf9b77d"
      },
      "execution_count": 10,
      "outputs": [
        {
          "output_type": "stream",
          "name": "stdout",
          "text": [
            "Addition:  45 + 2 = 47\n",
            "Subtraction:  45 - 2 = 43\n",
            "Multiplication:  45 * 2 = 90\n",
            "Division:  45 / 2 = 22.5\n",
            "Floor Division:  45 // 2 = 22\n",
            "Modulus Operator:  45 % 2 = 1\n",
            "Exponential Operator:  45 ** 2 = 2025\n"
          ]
        }
      ]
    },
    {
      "cell_type": "code",
      "source": [
        "# Order of Precedence, 1st priority to bracket, then outer part\n",
        "3+(2*3)"
      ],
      "metadata": {
        "colab": {
          "base_uri": "https://localhost:8080/"
        },
        "id": "QHIETcwrMrRz",
        "outputId": "cbdeb090-da17-480b-fb80-d0e38d55e8a8"
      },
      "execution_count": 1,
      "outputs": [
        {
          "output_type": "execute_result",
          "data": {
            "text/plain": [
              "9"
            ]
          },
          "metadata": {},
          "execution_count": 1
        }
      ]
    },
    {
      "cell_type": "code",
      "source": [
        "# Taking Input from the User\n",
        "num1=input(\"Enter First Number:\")\n",
        "print(num1)\n",
        "num2=input(\"Enter Second Number:\")\n",
        "print(num2)\n",
        "result=int(num1)+int(num2)\n",
        "print(num1,\"+\",num2,\"=\",result)"
      ],
      "metadata": {
        "colab": {
          "base_uri": "https://localhost:8080/"
        },
        "id": "oGXR7AAjM7ww",
        "outputId": "d360ff5d-e560-4ac5-e18c-f18a68eac73d"
      },
      "execution_count": null,
      "outputs": [
        {
          "output_type": "stream",
          "name": "stdout",
          "text": [
            "Enter First Number:45\n",
            "45\n",
            "Enter Second Number:32\n",
            "32\n",
            "45 + 32 = 80\n"
          ]
        }
      ]
    },
    {
      "cell_type": "code",
      "source": [
        "# Taking Input from the User\n",
        "num1=float(input(\"Enter First Number:\"))\n",
        "# By Default, it takes string as an input, so typecasting is necessary\n",
        "print(num1)\n",
        "num2=float(input(\"Enter Second Number:\"))\n",
        "# By Default, it takes string as an input, so typecasting is necessary\n",
        "print(num2)\n",
        "print(num1,\"+\",num2,\"=\",num1+num2)"
      ],
      "metadata": {
        "colab": {
          "base_uri": "https://localhost:8080/"
        },
        "id": "oIBuNGoZN3xS",
        "outputId": "f64860f3-6d3d-4879-edb0-a27ced17c79d"
      },
      "execution_count": null,
      "outputs": [
        {
          "output_type": "stream",
          "name": "stdout",
          "text": [
            "Enter First Number:12.5\n",
            "12.5\n",
            "Enter Second Number:32.4\n",
            "32.4\n",
            "12.5 + 32.4 = 44.9\n"
          ]
        }
      ]
    },
    {
      "cell_type": "code",
      "source": [
        "a=6\n",
        "b=5.12\n",
        "c=True\n",
        "d='Manish Shiwakoti'\n",
        "e=3-2j\n",
        "print(\"Integer: \", a)\n",
        "print(\"Float: \", b)\n",
        "print(\"Boolean: \", c)\n",
        "print(\"String: \", d)\n",
        "print(\"Complex: \", e)"
      ],
      "metadata": {
        "colab": {
          "base_uri": "https://localhost:8080/"
        },
        "id": "uQCApGExOzz7",
        "outputId": "d6afd077-6a5d-4109-c59c-8d0b74df512b"
      },
      "execution_count": 12,
      "outputs": [
        {
          "output_type": "stream",
          "name": "stdout",
          "text": [
            "Integer:  6\n",
            "Float:  5.12\n",
            "Boolean:  True\n",
            "String:  Manish Shiwakoti\n",
            "Complex:  (3-2j)\n"
          ]
        }
      ]
    }
  ]
}
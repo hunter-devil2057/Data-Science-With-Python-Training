{
 "cells": [
  {
   "cell_type": "code",
   "execution_count": null,
   "metadata": {},
   "outputs": [],
   "source": [
    "# While with break statement\n",
    "# Syntax: \n",
    "# while testExpression: \n",
    "    # statement(s)\n",
    "    # break\n",
    "    # statement(s)\n",
    "    \n",
    "# Statement(s)"
   ]
  },
  {
   "cell_type": "code",
   "execution_count": null,
   "metadata": {},
   "outputs": [],
   "source": [
    "# # while continue statement\n",
    "# while testExpression:\n",
    "#     statement(s)\n",
    "#     statement(s)\n",
    "#     continue\n",
    "#     statement(s)\n",
    "# statement(s)"
   ]
  },
  {
   "cell_type": "code",
   "execution_count": 2,
   "metadata": {},
   "outputs": [
    {
     "name": "stdout",
     "output_type": "stream",
     "text": [
      "0\n",
      "1\n",
      "2\n",
      "3\n",
      "4\n",
      "5\n",
      "6\n",
      "7\n",
      "8\n",
      "9\n",
      "10\n",
      "11\n",
      "12\n",
      "13\n",
      "14\n",
      "15\n",
      "16\n"
     ]
    }
   ],
   "source": [
    "for i in range(0, 22):\n",
    "    if(i==17):\n",
    "        break\n",
    "    else:\n",
    "        print(i)"
   ]
  },
  {
   "cell_type": "code",
   "execution_count": 3,
   "metadata": {},
   "outputs": [
    {
     "name": "stdout",
     "output_type": "stream",
     "text": [
      "1\n",
      "2\n",
      "3\n",
      "4\n",
      "6\n",
      "7\n",
      "8\n",
      "9\n",
      "10\n"
     ]
    }
   ],
   "source": [
    "i=0\n",
    "while i<10:\n",
    "    i+=1\n",
    "    if i==5:\n",
    "        continue        #skips 5 then prints continuously\n",
    "    print(i)"
   ]
  },
  {
   "cell_type": "code",
   "execution_count": null,
   "metadata": {},
   "outputs": [],
   "source": [
    "# pass statement: acts as a placeholder for future code\n",
    "# defining function with parameters x and y\n",
    "def func(x, y):\n",
    "    pass "
   ]
  },
  {
   "cell_type": "code",
   "execution_count": 6,
   "metadata": {},
   "outputs": [
    {
     "name": "stdout",
     "output_type": "stream",
     "text": [
      "bmw apple\n",
      "bmw banana\n",
      "bmw mango\n",
      "tata apple\n",
      "tata banana\n",
      "tata mango\n",
      "ford apple\n",
      "ford banana\n",
      "ford mango\n"
     ]
    }
   ],
   "source": [
    "# Nested Loop: loop inside loop, for both for-loop and while-loop\n",
    "cars=['bmw', 'tata', 'ford']\n",
    "fruits=['apple', 'banana', 'mango']\n",
    "for x in cars:\n",
    "    for y in fruits:\n",
    "        print(x, y)"
   ]
  }
 ],
 "metadata": {
  "kernelspec": {
   "display_name": "Python 3",
   "language": "python",
   "name": "python3"
  },
  "language_info": {
   "codemirror_mode": {
    "name": "ipython",
    "version": 3
   },
   "file_extension": ".py",
   "mimetype": "text/x-python",
   "name": "python",
   "nbconvert_exporter": "python",
   "pygments_lexer": "ipython3",
   "version": "3.12.4"
  }
 },
 "nbformat": 4,
 "nbformat_minor": 2
}

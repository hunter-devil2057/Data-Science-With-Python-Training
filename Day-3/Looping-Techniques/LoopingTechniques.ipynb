{
 "cells": [
  {
   "cell_type": "code",
   "execution_count": 2,
   "metadata": {},
   "outputs": [
    {
     "name": "stdout",
     "output_type": "stream",
     "text": [
      "a1 b1\n",
      "a2 b2\n"
     ]
    }
   ],
   "source": [
    "listA=['a1', 'a2']\n",
    "listB=['b1', 'b2', 'b3']\n",
    "for a, b in zip(listA, listB):\n",
    "    # zip combines the similar types of elements\n",
    "    print(a, b)\n",
    "    # follows shortest length, as A has short length, it iterates the shortest length"
   ]
  },
  {
   "cell_type": "code",
   "execution_count": 4,
   "metadata": {},
   "outputs": [
    {
     "name": "stdout",
     "output_type": "stream",
     "text": [
      "(0, 'list1')\n",
      "(1, 'list2')\n",
      "(2, 'list3')\n"
     ]
    }
   ],
   "source": [
    "# enumerate: gives index of each\n",
    "mylist=['list1', 'list2', 'list3']\n",
    "for item in enumerate(mylist):\n",
    "    print(item)"
   ]
  },
  {
   "cell_type": "markdown",
   "metadata": {},
   "source": [
    "WAP to take input from user and find out the shortest element. "
   ]
  },
  {
   "cell_type": "code",
   "execution_count": 6,
   "metadata": {},
   "outputs": [
    {
     "name": "stdout",
     "output_type": "stream",
     "text": [
      "Manish  is the shortest element\n"
     ]
    }
   ],
   "source": [
    "a=input(\"Enter First Element:\")\n",
    "b=input(\"Enter Second Element:\")\n",
    "if(len(a)<len(b)):\n",
    "    print(a, \"is the shortest element\")\n",
    "else:\n",
    "    print(b, \"is the shortest element.\")"
   ]
  },
  {
   "cell_type": "markdown",
   "metadata": {},
   "source": [
    "Iterate over the list, fruit=['apple', 'banana', 'cherry']"
   ]
  },
  {
   "cell_type": "code",
   "execution_count": 8,
   "metadata": {},
   "outputs": [
    {
     "name": "stdout",
     "output_type": "stream",
     "text": [
      "apple\n",
      "banana\n",
      "cherry\n"
     ]
    }
   ],
   "source": [
    "fruit=['apple', 'banana', 'cherry']\n",
    "for i in fruit:\n",
    "    print(i)"
   ]
  },
  {
   "cell_type": "markdown",
   "metadata": {},
   "source": [
    "Show use-case of break and continue"
   ]
  },
  {
   "cell_type": "code",
   "execution_count": 11,
   "metadata": {},
   "outputs": [
    {
     "name": "stdout",
     "output_type": "stream",
     "text": [
      "0\n",
      "1\n",
      "2\n"
     ]
    }
   ],
   "source": [
    "# for break \n",
    "i=0\n",
    "while i<5:\n",
    "    print(i)\n",
    "    i+=1\n",
    "    if(i==3):\n",
    "        break\n",
    "    # print(i)"
   ]
  },
  {
   "cell_type": "code",
   "execution_count": 13,
   "metadata": {},
   "outputs": [
    {
     "name": "stdout",
     "output_type": "stream",
     "text": [
      "1\n",
      "2\n",
      "4\n",
      "5\n"
     ]
    }
   ],
   "source": [
    "# for continue\n",
    " \n",
    "i=0\n",
    "while i<5:\n",
    "    # print(i)\n",
    "    i+=1\n",
    "    if(i==3):\n",
    "        continue\n",
    "    print(i)"
   ]
  }
 ],
 "metadata": {
  "kernelspec": {
   "display_name": "Python 3",
   "language": "python",
   "name": "python3"
  },
  "language_info": {
   "codemirror_mode": {
    "name": "ipython",
    "version": 3
   },
   "file_extension": ".py",
   "mimetype": "text/x-python",
   "name": "python",
   "nbconvert_exporter": "python",
   "pygments_lexer": "ipython3",
   "version": "3.12.4"
  }
 },
 "nbformat": 4,
 "nbformat_minor": 2
}

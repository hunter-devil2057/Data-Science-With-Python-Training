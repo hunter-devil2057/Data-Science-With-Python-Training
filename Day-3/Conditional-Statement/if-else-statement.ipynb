{
 "cells": [
  {
   "cell_type": "code",
   "execution_count": 1,
   "metadata": {},
   "outputs": [
    {
     "name": "stdout",
     "output_type": "stream",
     "text": [
      "You can enter the party\n"
     ]
    }
   ],
   "source": [
    "age=21\n",
    "if(age>18):\n",
    "    print(\"You can enter the party\")"
   ]
  },
  {
   "cell_type": "code",
   "execution_count": 2,
   "metadata": {},
   "outputs": [
    {
     "name": "stdout",
     "output_type": "stream",
     "text": [
      "Move On\n"
     ]
    }
   ],
   "source": [
    "# if-else\n",
    "age=10\n",
    "if age>18:\n",
    "  print(\"You can enter..\")\n",
    "  print(\"You can enter..\")\n",
    "else:\n",
    "  print(\"Move On\")"
   ]
  },
  {
   "cell_type": "code",
   "execution_count": 3,
   "metadata": {},
   "outputs": [
    {
     "name": "stdout",
     "output_type": "stream",
     "text": [
      "You are at the right age and can enter the party\n"
     ]
    }
   ],
   "source": [
    "# if-elif-else\n",
    "age=18\n",
    "if age>18:\n",
    "    print(\"You can enter party\")\n",
    "elif age==18:\n",
    "    print(\"You are at the right age and can enter the party\")\n",
    "else:\n",
    "    print(\"Move on\")"
   ]
  },
  {
   "cell_type": "markdown",
   "metadata": {},
   "source": [
    "WAP to find the greatest numbers among three numbers"
   ]
  },
  {
   "cell_type": "code",
   "execution_count": 6,
   "metadata": {},
   "outputs": [
    {
     "name": "stdout",
     "output_type": "stream",
     "text": [
      "4 is the greatest number\n"
     ]
    }
   ],
   "source": [
    "a=int(input(\"Enter First Number:\"))\n",
    "b=int(input(\"Enter Second Number:\"))\n",
    "c=int(input(\"Enter Third Number:\"))\n",
    "if a>b & a>c:\n",
    "    print(a,\"is the greatest number\")\n",
    "elif b>a & b>c:\n",
    "    print(b,\"is the greatest number\")\n",
    "else:\n",
    "    print(c,\"is the greatest number\")"
   ]
  },
  {
   "cell_type": "code",
   "execution_count": null,
   "metadata": {},
   "outputs": [],
   "source": [
    "# Ternary Operator\n",
    "# Syntax: x-<on_true> if <condition> else<on_false>"
   ]
  }
 ],
 "metadata": {
  "kernelspec": {
   "display_name": "Python 3",
   "language": "python",
   "name": "python3"
  },
  "language_info": {
   "codemirror_mode": {
    "name": "ipython",
    "version": 3
   },
   "file_extension": ".py",
   "mimetype": "text/x-python",
   "name": "python",
   "nbconvert_exporter": "python",
   "pygments_lexer": "ipython3",
   "version": "3.12.4"
  }
 },
 "nbformat": 4,
 "nbformat_minor": 2
}

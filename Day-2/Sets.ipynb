{
 "cells": [
  {
   "cell_type": "code",
   "execution_count": null,
   "metadata": {},
   "outputs": [],
   "source": [
    "# Sets in Python: Collections of well-defined distinct items\n",
    "# Items are unordered, immutable (can't be changed)\n",
    "# Lists and Dictionary are not allowed. \n",
    "# allows Tuples "
   ]
  },
  {
   "cell_type": "code",
   "execution_count": 1,
   "metadata": {},
   "outputs": [
    {
     "data": {
      "text/plain": [
       "{'a', 'b', 'c', 'x'}"
      ]
     },
     "execution_count": 1,
     "metadata": {},
     "output_type": "execute_result"
    }
   ],
   "source": [
    "# Defining Sets\n",
    "s={'a', 'b', 'c', 'x', 'a'}\n",
    "# Doesn't allow duplicate items \n",
    "s"
   ]
  },
  {
   "cell_type": "code",
   "execution_count": 2,
   "metadata": {},
   "outputs": [
    {
     "name": "stdout",
     "output_type": "stream",
     "text": [
      "<class 'set'>\n"
     ]
    }
   ],
   "source": [
    "# Converting Tuple and list into set\n",
    "a=[1, 2, 3, 4]\n",
    "b=set(a)\n",
    "print(type(b))\n",
    "\n",
    "c=(1, 2, 3)\n",
    "d=set(c)\n",
    "print(type(d))\n",
    "# Converting Tuple and List into Set: Eg of TypeCasting"
   ]
  },
  {
   "cell_type": "code",
   "execution_count": 5,
   "metadata": {},
   "outputs": [
    {
     "name": "stdout",
     "output_type": "stream",
     "text": [
      "{'lemon', 'banana', 'mango', 'apple', 'orange', 'carrot'}\n",
      "{'lemon', 'banana', 'mango', 'orange', 'carrot'}\n"
     ]
    }
   ],
   "source": [
    "# Modifying a Set\n",
    "a={\"apple\", \"banana\", \"mango\", \"orange\", \"lemon\"}\n",
    "a.add(\"carrot\")\n",
    "print(a)\n",
    "a.remove(\"apple\")\n",
    "print(a)"
   ]
  },
  {
   "cell_type": "code",
   "execution_count": 11,
   "metadata": {},
   "outputs": [
    {
     "name": "stdout",
     "output_type": "stream",
     "text": [
      "{1, 2, 3, 4, 5, 6, 7, 8, 9}\n",
      "{1, 2, 3, 4, 5, 6, 7, 8, 9}\n",
      "{5}\n",
      "{5}\n",
      "{1, 2, 3, 4}\n",
      "{1, 2, 3, 4}\n",
      "{8, 9, 6, 7}\n",
      "{8, 9, 6, 7}\n",
      "{1, 2, 3, 4, 6, 7, 8, 9}\n",
      "{1, 2, 3, 4, 6, 7, 8, 9}\n"
     ]
    }
   ],
   "source": [
    "# Set Operations\n",
    "# Union\n",
    "A={1, 2, 3, 4, 5}\n",
    "b={5, 6, 7, 8, 9}\n",
    "print(A.union(b))\n",
    "print(A|b)\n",
    "\n",
    "# INtersection \n",
    "print(A.intersection(b))\n",
    "print(A&b)\n",
    "\n",
    "# Difference\n",
    "print(A.difference(b))\n",
    "print(A-b)\n",
    "print(b.difference(A))\n",
    "print(b-A)\n",
    "\n",
    "# Symmetric Difference\n",
    "print(A.symmetric_difference(b))\n",
    "print(A^b)"
   ]
  },
  {
   "cell_type": "code",
   "execution_count": 12,
   "metadata": {},
   "outputs": [
    {
     "data": {
      "text/plain": [
       "frozenset({1, 2, 3, 4})"
      ]
     },
     "execution_count": 12,
     "metadata": {},
     "output_type": "execute_result"
    }
   ],
   "source": [
    "# Frozen Set\n",
    "# frozenset(iterable_object_name)\n",
    "m=frozenset([1, 2, 3, 4])\n",
    "# Modifying methods are not allowed and are safe\n",
    "# Non-modifying methods are allowed.\n",
    "m\n",
    "# copy(), "
   ]
  }
 ],
 "metadata": {
  "kernelspec": {
   "display_name": "Python 3",
   "language": "python",
   "name": "python3"
  },
  "language_info": {
   "codemirror_mode": {
    "name": "ipython",
    "version": 3
   },
   "file_extension": ".py",
   "mimetype": "text/x-python",
   "name": "python",
   "nbconvert_exporter": "python",
   "pygments_lexer": "ipython3",
   "version": "3.12.4"
  }
 },
 "nbformat": 4,
 "nbformat_minor": 2
}

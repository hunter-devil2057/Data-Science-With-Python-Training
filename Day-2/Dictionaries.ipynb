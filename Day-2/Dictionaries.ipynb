{
 "cells": [
  {
   "cell_type": "code",
   "execution_count": 10,
   "metadata": {},
   "outputs": [
    {
     "name": "stdout",
     "output_type": "stream",
     "text": [
      "{'Name': 'John', 'Class': '12th Standard', 'Address': 'Manhattan', 'College': 'Stanford'}\n",
      "dict_keys(['Name', 'Class', 'Address', 'College'])\n",
      "dict_values(['John', '12th Standard', 'Manhattan', 'Stanford'])\n",
      "John\n",
      "12th Standard\n",
      "Manhattan\n",
      "Stanford\n"
     ]
    }
   ],
   "source": [
    "# Dictionaries: collection of key-value pair\n",
    "# unordered collection of items; item=key-value pair\n",
    "# dict={\"key\": value, key\": value,......}\n",
    "# Defining dictionary dict\n",
    "dict={\n",
    "    # Key-Value Pair 1\n",
    "    'Name': 'John', \n",
    "    # Key-Value Pair 2\n",
    "    'Class': '12th Standard', \n",
    "    # Key-Value Pair 3\n",
    "    'Address': 'Manhattan', \n",
    "    # Key-Value Pair 4\n",
    "    'College': 'Stanford'\n",
    "}\n",
    "print(dict)\n",
    "print(dict.keys())\n",
    "print(dict.values())\n",
    "# print(dictionaryName['keyName'])\n",
    "print(dict['Name'])\n",
    "print(dict['Class'])\n",
    "print(dict['Address'])\n",
    "print(dict['College'])"
   ]
  },
  {
   "cell_type": "code",
   "execution_count": 12,
   "metadata": {},
   "outputs": [
    {
     "name": "stdout",
     "output_type": "stream",
     "text": [
      "dict_keys(['Name', 'Class', 'Address', 'College'])\n",
      "dict_values(['John', '12th Standard', 'Manhattan', 'Stanford'])\n"
     ]
    }
   ],
   "source": [
    "# Accessing Elements, Keys and Values\n",
    "print(dict.keys())\n",
    "print(dict.values())\n",
    "# Keys of Dictionary are Immutable\n",
    "# can't use List and Dictionary as Keys \n",
    "# ONly string, numbers, booleans, tuples"
   ]
  },
  {
   "cell_type": "code",
   "execution_count": 20,
   "metadata": {},
   "outputs": [
    {
     "data": {
      "text/plain": [
       "{'name': 'Manish', 'age': 24, 'address': 'Manhattan'}"
      ]
     },
     "execution_count": 20,
     "metadata": {},
     "output_type": "execute_result"
    }
   ],
   "source": [
    "# Modifying Values\n",
    "info={\n",
    "    'name':'John',\n",
    "    'age':'26',\n",
    "    \n",
    "    }\n",
    "info['name']=\"Manish\"\n",
    "info['age']=24\n",
    "# Adding New Key-Pari value\n",
    "info['address']=\"Manhattan\"\n",
    "info"
   ]
  },
  {
   "cell_type": "code",
   "execution_count": 22,
   "metadata": {},
   "outputs": [
    {
     "data": {
      "text/plain": [
       "{'name': 'Manish', 'address': 'Manhattan'}"
      ]
     },
     "execution_count": 22,
     "metadata": {},
     "output_type": "execute_result"
    }
   ],
   "source": [
    "# Popping Operation using pop()\n",
    "info.pop('age')\n",
    "info"
   ]
  },
  {
   "cell_type": "code",
   "execution_count": null,
   "metadata": {},
   "outputs": [],
   "source": [
    "# Nested Dictionary"
   ]
  }
 ],
 "metadata": {
  "kernelspec": {
   "display_name": "Python 3",
   "language": "python",
   "name": "python3"
  },
  "language_info": {
   "codemirror_mode": {
    "name": "ipython",
    "version": 3
   },
   "file_extension": ".py",
   "mimetype": "text/x-python",
   "name": "python",
   "nbconvert_exporter": "python",
   "pygments_lexer": "ipython3",
   "version": "3.12.4"
  }
 },
 "nbformat": 4,
 "nbformat_minor": 2
}

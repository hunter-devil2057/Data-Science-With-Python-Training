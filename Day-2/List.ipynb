{
  "nbformat": 4,
  "nbformat_minor": 0,
  "metadata": {
    "colab": {
      "provenance": []
    },
    "kernelspec": {
      "name": "python3",
      "display_name": "Python 3"
    },
    "language_info": {
      "name": "python"
    }
  },
  "cells": [
    {
      "cell_type": "code",
      "execution_count": null,
      "metadata": {
        "colab": {
          "base_uri": "https://localhost:8080/"
        },
        "id": "wf_2R7IqL61L",
        "outputId": "f212d5ef-d1d1-4ff8-d432-782be3b92058"
      },
      "outputs": [
        {
          "output_type": "stream",
          "name": "stdout",
          "text": [
            "[1, 2, 3, 4]\n",
            "<class 'list'>\n"
          ]
        }
      ],
      "source": [
        "a=[1, 2, 3, 4]\n",
        "print(a)\n",
        "print(type(a))"
      ]
    },
    {
      "cell_type": "code",
      "source": [
        "names=[\"Hari\", \"Gita\", \"Sita\", \"Ram\"]\n",
        "print(names)\n",
        "print(type(names))"
      ],
      "metadata": {
        "colab": {
          "base_uri": "https://localhost:8080/"
        },
        "id": "oPS1KrVzMRUw",
        "outputId": "b446325e-521f-49e4-e0c5-fc0bfac2959c"
      },
      "execution_count": null,
      "outputs": [
        {
          "output_type": "stream",
          "name": "stdout",
          "text": [
            "['Hari', 'Gita', 'Sita', 'Ram']\n",
            "<class 'list'>\n"
          ]
        }
      ]
    },
    {
      "cell_type": "code",
      "source": [
        "# List can contain any data types:\n",
        "x=[\"John\", 1992, 12.45, 21-7j, True, [4, \"Hari\"]]\n",
        "print(x)"
      ],
      "metadata": {
        "colab": {
          "base_uri": "https://localhost:8080/"
        },
        "id": "cIuBZ0dCMcTQ",
        "outputId": "4cfe3375-3bc6-46c3-95c5-f55a859f9947"
      },
      "execution_count": null,
      "outputs": [
        {
          "output_type": "stream",
          "name": "stdout",
          "text": [
            "['John', 1992, 12.45, (21-7j), True, [4, 'Hari']]\n"
          ]
        }
      ]
    },
    {
      "cell_type": "code",
      "source": [
        "a=[\"apple\", \"banana\", \"cherry\", \"mango\"]\n",
        "print(a)\n",
        "print(a[-1])\n",
        "print(a[-2])\n",
        "print(a[-3])\n",
        "print(a[-4])\n",
        "print(a[0])\n",
        "print(a[1])\n",
        "print(a[2])\n",
        "print(a[3])"
      ],
      "metadata": {
        "colab": {
          "base_uri": "https://localhost:8080/"
        },
        "id": "dAf2NbKkNFu3",
        "outputId": "665c10f4-3111-4dae-94bd-c3da5ac3b5a4"
      },
      "execution_count": null,
      "outputs": [
        {
          "output_type": "stream",
          "name": "stdout",
          "text": [
            "['apple', 'banana', 'cherry', 'mango']\n",
            "mango\n",
            "cherry\n",
            "banana\n",
            "apple\n",
            "apple\n",
            "banana\n",
            "cherry\n",
            "mango\n"
          ]
        }
      ]
    },
    {
      "cell_type": "code",
      "source": [
        "# Slicing a List\n",
        "# Syntax: L[Start: stop: step]\n",
        "# Here, start is inclusive and stop is exclusive\n",
        "# List are mutable: value can be changed/modified\n",
        "# Step is a default value 1\n",
        "# Li[:]=all elements\n",
        "# Li[::2]=\n",
        "# Li[::-1]=\n",
        "a=[\"apple\", \"banana\", \"cherry\", \"mango\"]\n",
        "print(a[0:4])\n",
        "print(a[1:4])\n",
        "print(a[2:4])\n",
        "print(a[3:4])"
      ],
      "metadata": {
        "colab": {
          "base_uri": "https://localhost:8080/"
        },
        "id": "nH2LKWSiNYey",
        "outputId": "6aa0d4c4-2ff2-46f9-cc9a-571fdb0db8fe"
      },
      "execution_count": null,
      "outputs": [
        {
          "output_type": "stream",
          "name": "stdout",
          "text": [
            "['apple', 'banana', 'cherry', 'mango']\n",
            "['banana', 'cherry', 'mango']\n",
            "['cherry', 'mango']\n",
            "['mango']\n"
          ]
        }
      ]
    },
    {
      "cell_type": "code",
      "source": [
        "# Nested List: List inside a List\n",
        "x=[\"a\", [\"b\", [\"c\", \"d\"], [\"e\", \"f\"]]]\n",
        "x"
      ],
      "metadata": {
        "colab": {
          "base_uri": "https://localhost:8080/"
        },
        "id": "Q0gSWzh7OqzO",
        "outputId": "f5953d5b-1ce6-4350-aabe-73d715ebe421"
      },
      "execution_count": null,
      "outputs": [
        {
          "output_type": "execute_result",
          "data": {
            "text/plain": [
              "['a', ['b', ['c', 'd'], ['e', 'f']]]"
            ]
          },
          "metadata": {},
          "execution_count": 13
        }
      ]
    },
    {
      "cell_type": "code",
      "source": [
        "# Modifying a Elements in a List: Showing Mutable Properties in List\n",
        "var=[\"apple\", \"banana\", \"mango\", \"orange\", \"papaya\", \"strawberry\", \"blueberry\", \"sandwich\"]\n",
        "var[3]=\"Burger\"\n",
        "print(var)"
      ],
      "metadata": {
        "colab": {
          "base_uri": "https://localhost:8080/"
        },
        "id": "57Obk4W6PsKa",
        "outputId": "e40b01d1-c800-4400-97cd-ee2a9321e345"
      },
      "execution_count": null,
      "outputs": [
        {
          "output_type": "stream",
          "name": "stdout",
          "text": [
            "['apple', 'banana', 'mango', 'Burger', 'papaya', 'strawberry', 'blueberry', 'sandwich']\n"
          ]
        }
      ]
    },
    {
      "cell_type": "code",
      "source": [
        "# Lists are dynamic: elements can be added/removed from the list\n",
        "y=[1, 2, \"apple\", \"mango\"]\n",
        "# y[4]=\"Bahubali\"   #due to outer index, it shows error\n",
        "# Adding Elements in List\n",
        "y+=[\"Bahubali\", \"Kalki\"]\n",
        "y"
      ],
      "metadata": {
        "colab": {
          "base_uri": "https://localhost:8080/"
        },
        "id": "dYB59HFbQI0G",
        "outputId": "8a4ae6bd-649b-40bc-aaa2-17053fe03fa6"
      },
      "execution_count": null,
      "outputs": [
        {
          "output_type": "execute_result",
          "data": {
            "text/plain": [
              "[1, 2, 'apple', 'mango', 'Bahubali', 'Kalki']"
            ]
          },
          "metadata": {},
          "execution_count": 16
        }
      ]
    },
    {
      "cell_type": "code",
      "source": [
        "# Some List methods\n",
        "y=[1, 2, 'a', 4, 5.5, 6]\n",
        "y.remove('a')\n",
        "y\n",
        "# can extend, reverse, push, pop the list as well"
      ],
      "metadata": {
        "colab": {
          "base_uri": "https://localhost:8080/"
        },
        "id": "ack1C7RRRG4w",
        "outputId": "43f0b6f8-2791-4048-bd2f-d72f404d20a0"
      },
      "execution_count": null,
      "outputs": [
        {
          "output_type": "execute_result",
          "data": {
            "text/plain": [
              "[1, 2, 4, 5.5, 6]"
            ]
          },
          "metadata": {},
          "execution_count": 18
        }
      ]
    }
  ]
}
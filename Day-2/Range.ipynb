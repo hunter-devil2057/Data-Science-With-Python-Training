{
 "cells": [
  {
   "cell_type": "code",
   "execution_count": 10,
   "metadata": {},
   "outputs": [
    {
     "name": "stdout",
     "output_type": "stream",
     "text": [
      "[0, 1, 2, 3, 4, 5, 6, 7, 8, 9]\n",
      "[0, 1, 2, 3]\n",
      "[40, 45, 50, 55, 60]\n"
     ]
    }
   ],
   "source": [
    "# range(stop)\n",
    "x=list(range(10))\n",
    "print(x)\n",
    "# range(start, stop)\n",
    "y=list(range(0,4))\n",
    "print(y)\n",
    "# range(start, stop, step)\n",
    "z=list(range(40, 61, 5))\n",
    "print(z)"
   ]
  }
 ],
 "metadata": {
  "kernelspec": {
   "display_name": "Python 3",
   "language": "python",
   "name": "python3"
  },
  "language_info": {
   "codemirror_mode": {
    "name": "ipython",
    "version": 3
   },
   "file_extension": ".py",
   "mimetype": "text/x-python",
   "name": "python",
   "nbconvert_exporter": "python",
   "pygments_lexer": "ipython3",
   "version": "3.12.4"
  }
 },
 "nbformat": 4,
 "nbformat_minor": 2
}
